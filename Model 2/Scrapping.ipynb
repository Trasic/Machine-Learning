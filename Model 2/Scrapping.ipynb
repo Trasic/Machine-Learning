{
 "cells": [
  {
   "cell_type": "code",
   "execution_count": 1,
   "metadata": {},
   "outputs": [],
   "source": [
    "from selenium import webdriver\n",
    "from selenium.webdriver.chrome.service import Service\n",
    "from selenium.webdriver.chrome.options import Options\n",
    "from webdriver_manager.chrome import ChromeDriverManager\n",
    "from selenium.webdriver.common.by import By\n",
    "from selenium.webdriver.common.keys import Keys"
   ]
  },
  {
   "cell_type": "code",
   "execution_count": 2,
   "metadata": {},
   "outputs": [],
   "source": [
    "import requests\n",
    "from selenium import webdriver\n",
    "from selenium.webdriver.common.by import By\n",
    "import urllib\n",
    "import time"
   ]
  },
  {
   "cell_type": "code",
   "execution_count": 12,
   "metadata": {},
   "outputs": [],
   "source": [
    "driver = webdriver.Chrome(service=Service(ChromeDriverManager().install()))"
   ]
  },
  {
   "attachments": {},
   "cell_type": "markdown",
   "metadata": {},
   "source": [
    "# Scrapping Alat Musik"
   ]
  },
  {
   "cell_type": "code",
   "execution_count": 4,
   "metadata": {},
   "outputs": [],
   "source": [
    "def Scrapping(links, source):\n",
    "    driver.get(links)\n",
    "    print(driver.title)\n",
    "    \n",
    "    driver.execute_script(\"window.scrollTo(0,document.body.scrollHeight);\")\n",
    "    time.sleep(10)\n",
    "    imgResults = driver.find_elements(By.XPATH,\"//img[contains(@class,'rg_i Q4LuWd')]\")\n",
    "\n",
    "    src = []\n",
    "    for img in imgResults:\n",
    "        src.append(img.get_attribute('src'))\n",
    "    print(len(src))\n",
    "\n",
    "    for i in range(400):\n",
    "        try:    \n",
    "            urllib.request.urlretrieve(str(src[i]),\"Dataset/{}/{}{}.jpg\".format(source,source,i))\n",
    "        except ValueError:\n",
    "            continue"
   ]
  },
  {
   "cell_type": "code",
   "execution_count": 13,
   "metadata": {},
   "outputs": [
    {
     "name": "stdout",
     "output_type": "stream",
     "text": [
      "alat musik saron - Google Search\n",
      "315\n"
     ]
    },
    {
     "ename": "IndexError",
     "evalue": "list index out of range",
     "output_type": "error",
     "traceback": [
      "\u001b[1;31m---------------------------------------------------------------------------\u001b[0m",
      "\u001b[1;31mIndexError\u001b[0m                                Traceback (most recent call last)",
      "Cell \u001b[1;32mIn[13], line 1\u001b[0m\n\u001b[1;32m----> 1\u001b[0m Scrapping(\u001b[39m\"\u001b[39;49m\u001b[39mhttps://www.google.com/search?q=alat+musik+saron&source=lnms&tbm=isch&sa=X&ved=2ahUKEwjRt768pPn-AhW-XGwGHSzlAO8Q_AUoAXoECAMQAw&biw=1034&bih=585\u001b[39;49m\u001b[39m\"\u001b[39;49m,\u001b[39m'\u001b[39;49m\u001b[39mSaron2\u001b[39;49m\u001b[39m'\u001b[39;49m)\n",
      "Cell \u001b[1;32mIn[4], line 16\u001b[0m, in \u001b[0;36mScrapping\u001b[1;34m(links, source)\u001b[0m\n\u001b[0;32m     14\u001b[0m \u001b[39mfor\u001b[39;00m i \u001b[39min\u001b[39;00m \u001b[39mrange\u001b[39m(\u001b[39m400\u001b[39m):\n\u001b[0;32m     15\u001b[0m     \u001b[39mtry\u001b[39;00m:    \n\u001b[1;32m---> 16\u001b[0m         urllib\u001b[39m.\u001b[39mrequest\u001b[39m.\u001b[39murlretrieve(\u001b[39mstr\u001b[39m(src[i]),\u001b[39m\"\u001b[39m\u001b[39mDataset/\u001b[39m\u001b[39m{}\u001b[39;00m\u001b[39m/\u001b[39m\u001b[39m{}\u001b[39;00m\u001b[39m{}\u001b[39;00m\u001b[39m.jpg\u001b[39m\u001b[39m\"\u001b[39m\u001b[39m.\u001b[39mformat(source,source,i))\n\u001b[0;32m     17\u001b[0m     \u001b[39mexcept\u001b[39;00m \u001b[39mValueError\u001b[39;00m:\n\u001b[0;32m     18\u001b[0m         \u001b[39mcontinue\u001b[39;00m\n",
      "\u001b[1;31mIndexError\u001b[0m: list index out of range"
     ]
    }
   ],
   "source": [
    "Scrapping(\"https://www.google.com/search?q=alat+musik+saron&source=lnms&tbm=isch&sa=X&ved=2ahUKEwjRt768pPn-AhW-XGwGHSzlAO8Q_AUoAXoECAMQAw&biw=1034&bih=585\",'Saron2')"
   ]
  },
  {
   "attachments": {},
   "cell_type": "markdown",
   "metadata": {},
   "source": [
    "# AKSjdlsajdlksj"
   ]
  },
  {
   "cell_type": "code",
   "execution_count": 52,
   "metadata": {},
   "outputs": [
    {
     "name": "stdout",
     "output_type": "stream",
     "text": [
      "wayang gatotkaca - Google Search\n"
     ]
    }
   ],
   "source": [
    "driver.get(\"https://www.google.com/search?q=wayang+gatotkaca&tbm=isch&ved=2ahUKEwjM9a2ezNv-AhWKArcAHc_mBUYQ2-cCegQIABAA&oq=wayang+gatotkaca&gs_lcp=CgNpbWcQAzIFCAAQgAQyBQgAEIAEMgUIABCABDIFCAAQgAQyBQgAEIAEMgQIABAeMgQIABAeMgQIABAeMgQIABAeMgQIABAeOgYIABAHEB46BggAEAUQHjoGCAAQCBAeOggIABCABBCxAzoICAAQBRAeEApQ8wJYgitg-jRoAnAAeACAAUiIAfUJkgECMjCYAQCgAQGqAQtnd3Mtd2l6LWltZ8ABAQ&sclient=img&ei=yJtTZMzxC4qF3LUPz82XsAQ&bih=674&biw=1036&rlz=1C1ONGR_enID1054ID1054\")\n",
    "print(driver.title)"
   ]
  },
  {
   "cell_type": "code",
   "execution_count": 53,
   "metadata": {},
   "outputs": [],
   "source": [
    "for i in range(10):\n",
    "    driver.execute_script(\"window.scrollTo(0,document.body.scrollHeight);\")"
   ]
  },
  {
   "cell_type": "code",
   "execution_count": 54,
   "metadata": {},
   "outputs": [],
   "source": [
    "imgResults = driver.find_elements(By.XPATH,\"//img[contains(@class,'rg_i Q4LuWd')]\")\n",
    "\n",
    "src = []\n",
    "for img in imgResults:\n",
    "    src.append(img.get_attribute('src'))"
   ]
  },
  {
   "cell_type": "code",
   "execution_count": 55,
   "metadata": {},
   "outputs": [
    {
     "data": {
      "text/plain": [
       "521"
      ]
     },
     "execution_count": 55,
     "metadata": {},
     "output_type": "execute_result"
    }
   ],
   "source": [
    "len(src)"
   ]
  },
  {
   "cell_type": "code",
   "execution_count": 56,
   "metadata": {},
   "outputs": [],
   "source": [
    "for i in range(200):    \n",
    "    urllib.request.urlretrieve(str(src[i]),\"Gatot Kaca/Gatot Kaca{}.jpg\".format(i))"
   ]
  },
  {
   "cell_type": "code",
   "execution_count": null,
   "metadata": {},
   "outputs": [],
   "source": []
  }
 ],
 "metadata": {
  "kernelspec": {
   "display_name": "Python 3",
   "language": "python",
   "name": "python3"
  },
  "language_info": {
   "codemirror_mode": {
    "name": "ipython",
    "version": 3
   },
   "file_extension": ".py",
   "mimetype": "text/x-python",
   "name": "python",
   "nbconvert_exporter": "python",
   "pygments_lexer": "ipython3",
   "version": "3.11.3"
  },
  "orig_nbformat": 4
 },
 "nbformat": 4,
 "nbformat_minor": 2
}
